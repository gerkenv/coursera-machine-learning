{
 "cells": [
  {
   "cell_type": "markdown",
   "metadata": {},
   "source": [
    "# Coursera / Machine Learning\n",
    "\n",
    "## Introduction\n",
    "\n",
    "### Supervised Learning\n",
    "The idea is that in Supervised Learning, in every example in our data set, we are told what is the correct answer that we would have quite liked the algorithms have predicted on that example.\n",
    "\n",
    "In supervised learning, we are given a data set and already know what our correct output should look like, having the idea that there is a relationship between the input and the output.\n",
    "\n",
    "Supervised learning problems are categorized into \"regression\" and \"classification\" problems. In a regression problem, we are trying to predict results within a continuous output, meaning that we are trying to map input variables to some continuous function. In a classification problem, we are instead trying to predict results in a discrete output. In other words, we are trying to map input variables into discrete categories.\n",
    "\n",
    "#### Regression Problem\n",
    "By regression that means that our goal is to predict a continuous valued output.\n",
    "\n",
    "#### Classification Problem\n",
    "Classification problem is where the goal is to predict a discrete value output.\n",
    "\n",
    "#### Example 1:\n",
    "\n",
    "Given data about the size of houses on the real estate market, try to predict their price. Price as a function of size is a continuous output, so this is a regression problem.\n",
    "\n",
    "We could turn this example into a classification problem by instead making our output about whether the house \"sells for more or less than the asking price.\" Here we are classifying the houses based on price into two discrete categories.\n",
    "\n",
    "#### Example 2:\n",
    "\n",
    "(a) Regression - Given a picture of a person, we have to predict their age on the basis of the given picture\n",
    "\n",
    "(b) Classification - Given a patient with a tumor, we have to predict whether the tumor is malignant or benign.\n",
    "\n",
    "### Unsupervised Learning\n",
    "So we're given the data set and we're not told what to do with it and we're not told what each data point is. Instead we're just told, here is a data set. Can you find some structure in the data? Given this data set, an Unsupervised Learning algorithm might decide that the data lives in two different clusters.\n",
    "_Unsupervised Learning algorithm may break these data into these two separate clusters. So this is called a clustering algorithm_\n",
    "\n",
    "Unsupervised learning allows us to approach problems with little or no idea what our results should look like. We can derive structure from data where we don't necessarily know the effect of the variables.\n",
    "\n",
    "We can derive this structure by clustering the data based on relationships among the variables in the data.\n",
    "\n",
    "With unsupervised learning there is no feedback based on the prediction results.\n",
    "\n",
    "#### Example:\n",
    "\n",
    "- Clustering: Take a collection of 1,000,000 different genes, and find a way to automatically group these genes into groups that are somehow similar or related by different variables, such as lifespan, location, roles, and so on.\n",
    "\n",
    "- Non-clustering: The \"Cocktail Party Algorithm\", allows you to find structure in a chaotic environment. (i.e. identifying individual voices and music from a mesh of sounds at a [cocktail party](https://en.wikipedia.org/wiki/Cocktail_party_effect)).\n"
   ]
  },
  {
   "cell_type": "markdown",
   "metadata": {},
   "source": [
    "## Model Representation\n",
    "\n",
    "We have a training set which we feed to our learning algorithm. The learning algorithm outputs a function which by convention is usually denoted lowercase `h` and `h` stands for _hypothesis_ And the job of the hypothesis is a function that takes as input and it tries to output the estimated value of the output.\n",
    "\n",
    "![model](static/model.png)\n",
    "\n",
    "With linear regression we can represent\n",
    "$$\n",
    "h_\\Theta (x) = \\Theta_0 + \\Theta_1 \\times x \n",
    "$$\n",
    "\n",
    "\n",
    "## Cost Function\n",
    "We can measure the accuracy of our hypothesis function by using a cost function. This takes an average difference (actually a fancier version of an average) of all the results of the hypothesis with inputs from $x$'s and the actual output $y$'s.\n",
    "\n",
    "$$\n",
    "J(\\Theta_0, \\Theta_1) = \\frac{1}{2m} \\sum_{i=1}^{m} (\\bar{y_i} - y_i)^2 = \\frac{1}{2m} \\sum_{i=1}^{m} (h_\\Theta(x_i) - y_i)^2 \n",
    "$$\n",
    "\n",
    "To break it apart , it is $\\frac{1}{2}$ of $\\bar{x}$, where $\\bar{x}$ is the mean of squares of $h_\\Theta(x_i) - y_i$ or the differences between predicted value and the actual output value.\n",
    "\n",
    "This function is otherwise called the \"Squared error function\", or \"Mean squared error\". The mean is halved $\\left(\\frac{1}{2}\\right)$ as a convenience for the computation of the gradient descent, as the derivative term of the square function will cancel out the $\\frac{1}{2}$ term."
   ]
  },
  {
   "cell_type": "markdown",
   "metadata": {},
   "source": [
    "### Cost Function - Intuition I\n",
    "\n",
    "$$\n",
    "h_\\Theta(x) = \\Theta_1 x\n",
    "$$"
   ]
  },
  {
   "cell_type": "code",
   "execution_count": null,
   "metadata": {},
   "outputs": [],
   "source": []
  }
 ],
 "metadata": {
  "kernelspec": {
   "display_name": "Python 3",
   "language": "python",
   "name": "python3"
  },
  "language_info": {
   "codemirror_mode": {
    "name": "ipython",
    "version": 3
   },
   "file_extension": ".py",
   "mimetype": "text/x-python",
   "name": "python",
   "nbconvert_exporter": "python",
   "pygments_lexer": "ipython3",
   "version": "3.7.7"
  }
 },
 "nbformat": 4,
 "nbformat_minor": 4
}
